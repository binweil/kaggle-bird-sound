{
 "cells": [
  {
   "cell_type": "code",
   "execution_count": 1,
   "id": "0799c435-cf06-488c-8d7b-d66d72013e99",
   "metadata": {},
   "outputs": [],
   "source": [
    "%%capture\n",
    "!pip install numpy\n",
    "!pip install librosa\n",
    "!pip install matplotlib\n",
    "!pip install scikit-image\n",
    "!pip install opencv-python\n"
   ]
  },
  {
   "cell_type": "code",
   "execution_count": 2,
   "id": "219a387f-e6a6-4e8b-b9b3-76b0f5652576",
   "metadata": {
    "scrolled": true
   },
   "outputs": [
    {
     "name": "stderr",
     "output_type": "stream",
     "text": [
      "2024-04-11 23:05:55.654130: I tensorflow/core/util/port.cc:113] oneDNN custom operations are on. You may see slightly different numerical results due to floating-point round-off errors from different computation orders. To turn them off, set the environment variable `TF_ENABLE_ONEDNN_OPTS=0`.\n",
      "2024-04-11 23:05:55.674918: E external/local_xla/xla/stream_executor/cuda/cuda_dnn.cc:9261] Unable to register cuDNN factory: Attempting to register factory for plugin cuDNN when one has already been registered\n",
      "2024-04-11 23:05:55.674936: E external/local_xla/xla/stream_executor/cuda/cuda_fft.cc:607] Unable to register cuFFT factory: Attempting to register factory for plugin cuFFT when one has already been registered\n",
      "2024-04-11 23:05:55.675472: E external/local_xla/xla/stream_executor/cuda/cuda_blas.cc:1515] Unable to register cuBLAS factory: Attempting to register factory for plugin cuBLAS when one has already been registered\n",
      "2024-04-11 23:05:55.679438: I tensorflow/core/platform/cpu_feature_guard.cc:182] This TensorFlow binary is optimized to use available CPU instructions in performance-critical operations.\n",
      "To enable the following instructions: AVX2 AVX_VNNI FMA, in other operations, rebuild TensorFlow with the appropriate compiler flags.\n",
      "2024-04-11 23:05:56.034633: W tensorflow/compiler/tf2tensorrt/utils/py_utils.cc:38] TF-TRT Warning: Could not find TensorRT\n"
     ]
    },
    {
     "name": "stdout",
     "output_type": "stream",
     "text": [
      "GPUs Available:  [PhysicalDevice(name='/physical_device:GPU:0', device_type='GPU')]\n"
     ]
    },
    {
     "name": "stderr",
     "output_type": "stream",
     "text": [
      "2024-04-11 23:05:56.788033: I external/local_xla/xla/stream_executor/cuda/cuda_executor.cc:901] successful NUMA node read from SysFS had negative value (-1), but there must be at least one NUMA node, so returning NUMA node zero. See more at https://github.com/torvalds/linux/blob/v6.0/Documentation/ABI/testing/sysfs-bus-pci#L344-L355\n",
      "2024-04-11 23:05:56.814158: I external/local_xla/xla/stream_executor/cuda/cuda_executor.cc:901] successful NUMA node read from SysFS had negative value (-1), but there must be at least one NUMA node, so returning NUMA node zero. See more at https://github.com/torvalds/linux/blob/v6.0/Documentation/ABI/testing/sysfs-bus-pci#L344-L355\n",
      "2024-04-11 23:05:56.817784: I external/local_xla/xla/stream_executor/cuda/cuda_executor.cc:901] successful NUMA node read from SysFS had negative value (-1), but there must be at least one NUMA node, so returning NUMA node zero. See more at https://github.com/torvalds/linux/blob/v6.0/Documentation/ABI/testing/sysfs-bus-pci#L344-L355\n"
     ]
    }
   ],
   "source": [
    "# adding src to the system path\n",
    "import sys\n",
    "sys.path.insert(0, './src')\n",
    "\n",
    "import os\n",
    "import cv2\n",
    "import numpy\n",
    "import tensorflow as tf\n",
    "from tensorflow import keras\n",
    "from tensorflow.keras import datasets, layers, models\n",
    "from matplotlib import pyplot as plt\n",
    "\n",
    "from dataset_loader import DataSetsLoader\n",
    "from image_datasets_loader import ImageDatasetsLoader\n",
    "\n",
    "NUM_CLASSES = 10\n",
    "BATCH_SIZE = 32\n",
    "\n",
    "# Use hardware accelerator for training\n",
    "physical_devices = tf.config.experimental.list_physical_devices(\"GPU\")\n",
    "print(\"GPUs Available: \", physical_devices)\n",
    "tf.config.experimental.set_memory_growth(physical_devices[0], True)\n",
    "\n",
    "\n"
   ]
  },
  {
   "cell_type": "code",
   "execution_count": 3,
   "id": "c8807ffa-0b24-4bb1-8bb3-b159c495d024",
   "metadata": {},
   "outputs": [
    {
     "name": "stdout",
     "output_type": "stream",
     "text": [
      "Using 24 number of CPU to process training data\n",
      "Using 24 number of CPU to process training data\n",
      "processing class: ashdro1processing class: ashpri1processing class: ashwoo2\n",
      "processing class: asbfly\n",
      "\n",
      "\n",
      "processed class: ashwoo2\n",
      "processed class: ashpri1\n",
      "processed class: ashdro1\n",
      "processed class: asbfly\n",
      "{0: 'ashpri1', 3: 'ashwoo2', 1: 'ashdro1', 2: 'asbfly'}\n"
     ]
    }
   ],
   "source": [
    "datasets_loader = DataSetsLoader()\n",
    "train_points, test_points, train_labels, test_labels, CLASS_MAP = datasets_loader.transform_to_tensorflow_dataset()\n",
    "\n",
    "image_datasets_loader = ImageDatasetsLoader()\n",
    "train_points, test_points, train_labels, test_labels, CLASS_MAP_1 = image_datasets_loader.transform_to_tensorflow_dataset()\n",
    "\n",
    "print(CLASS_MAP_1)"
   ]
  },
  {
   "cell_type": "code",
   "execution_count": 4,
   "id": "a74edfe5-c7cb-48b1-8b13-9ff4c81ae623",
   "metadata": {},
   "outputs": [
    {
     "name": "stderr",
     "output_type": "stream",
     "text": [
      "2024-04-11 23:06:01.743048: I external/local_xla/xla/stream_executor/cuda/cuda_executor.cc:901] successful NUMA node read from SysFS had negative value (-1), but there must be at least one NUMA node, so returning NUMA node zero. See more at https://github.com/torvalds/linux/blob/v6.0/Documentation/ABI/testing/sysfs-bus-pci#L344-L355\n",
      "2024-04-11 23:06:01.748268: I external/local_xla/xla/stream_executor/cuda/cuda_executor.cc:901] successful NUMA node read from SysFS had negative value (-1), but there must be at least one NUMA node, so returning NUMA node zero. See more at https://github.com/torvalds/linux/blob/v6.0/Documentation/ABI/testing/sysfs-bus-pci#L344-L355\n",
      "2024-04-11 23:06:01.752755: I external/local_xla/xla/stream_executor/cuda/cuda_executor.cc:901] successful NUMA node read from SysFS had negative value (-1), but there must be at least one NUMA node, so returning NUMA node zero. See more at https://github.com/torvalds/linux/blob/v6.0/Documentation/ABI/testing/sysfs-bus-pci#L344-L355\n",
      "2024-04-11 23:06:01.868573: I external/local_xla/xla/stream_executor/cuda/cuda_executor.cc:901] successful NUMA node read from SysFS had negative value (-1), but there must be at least one NUMA node, so returning NUMA node zero. See more at https://github.com/torvalds/linux/blob/v6.0/Documentation/ABI/testing/sysfs-bus-pci#L344-L355\n",
      "2024-04-11 23:06:01.870008: I external/local_xla/xla/stream_executor/cuda/cuda_executor.cc:901] successful NUMA node read from SysFS had negative value (-1), but there must be at least one NUMA node, so returning NUMA node zero. See more at https://github.com/torvalds/linux/blob/v6.0/Documentation/ABI/testing/sysfs-bus-pci#L344-L355\n",
      "2024-04-11 23:06:01.871611: I external/local_xla/xla/stream_executor/cuda/cuda_executor.cc:901] successful NUMA node read from SysFS had negative value (-1), but there must be at least one NUMA node, so returning NUMA node zero. See more at https://github.com/torvalds/linux/blob/v6.0/Documentation/ABI/testing/sysfs-bus-pci#L344-L355\n",
      "2024-04-11 23:06:01.873013: I tensorflow/core/common_runtime/gpu/gpu_device.cc:1929] Created device /job:localhost/replica:0/task:0/device:GPU:0 with 5143 MB memory:  -> device: 0, name: NVIDIA GeForce RTX 3060 Ti, pci bus id: 0000:01:00.0, compute capability: 8.6\n"
     ]
    }
   ],
   "source": [
    "train_dataset = tf.data.Dataset.from_tensor_slices((train_points, train_labels))\n",
    "test_dataset = tf.data.Dataset.from_tensor_slices((test_points, test_labels))\n",
    "\n",
    "train_dataset = train_dataset.shuffle(len(train_points)).batch(BATCH_SIZE)\n",
    "test_dataset = test_dataset.shuffle(len(test_points)).batch(BATCH_SIZE)\n",
    "\n"
   ]
  },
  {
   "cell_type": "code",
   "execution_count": 12,
   "id": "eec76154-de07-4aaf-ac88-982ea8f2c834",
   "metadata": {},
   "outputs": [
    {
     "name": "stdout",
     "output_type": "stream",
     "text": [
      "Model: \"sequential_1\"\n",
      "_________________________________________________________________\n",
      " Layer (type)                Output Shape              Param #   \n",
      "=================================================================\n",
      " conv2d_3 (Conv2D)           (None, 253, 253, 64)      1792      \n",
      "                                                                 \n",
      " max_pooling2d_2 (MaxPoolin  (None, 126, 126, 64)      0         \n",
      " g2D)                                                            \n",
      "                                                                 \n",
      " conv2d_4 (Conv2D)           (None, 124, 124, 128)     73856     \n",
      "                                                                 \n",
      " max_pooling2d_3 (MaxPoolin  (None, 62, 62, 128)       0         \n",
      " g2D)                                                            \n",
      "                                                                 \n",
      " conv2d_5 (Conv2D)           (None, 60, 60, 128)       147584    \n",
      "                                                                 \n",
      " flatten_1 (Flatten)         (None, 460800)            0         \n",
      "                                                                 \n",
      " dense_2 (Dense)             (None, 128)               58982528  \n",
      "                                                                 \n",
      " dense_3 (Dense)             (None, 4)                 516       \n",
      "                                                                 \n",
      "=================================================================\n",
      "Total params: 59206276 (225.85 MB)\n",
      "Trainable params: 59206276 (225.85 MB)\n",
      "Non-trainable params: 0 (0.00 Byte)\n",
      "_________________________________________________________________\n"
     ]
    }
   ],
   "source": [
    "model = models.Sequential()\n",
    "model.add(layers.Conv2D(64, (3, 3), activation='relu', input_shape=(255, 255, 3)))\n",
    "model.add(layers.MaxPooling2D((2, 2)))\n",
    "model.add(layers.Conv2D(128, (3, 3), activation='relu'))\n",
    "model.add(layers.MaxPooling2D((2, 2)))\n",
    "model.add(layers.Conv2D(128, (3, 3), activation='relu'))\n",
    "\n",
    "model.add(layers.Flatten())\n",
    "model.add(layers.Dense(128, activation='relu'))\n",
    "model.add(layers.Dense(4))\n",
    "\n",
    "model.summary()"
   ]
  },
  {
   "cell_type": "code",
   "execution_count": 18,
   "id": "b3c82607-2e66-458b-8c61-370c2e91e4bd",
   "metadata": {},
   "outputs": [
    {
     "name": "stdout",
     "output_type": "stream",
     "text": [
      "Epoch 1/20\n",
      "2/8 [======>.......................] - ETA: 0s - loss: 0.8371 - accuracy: 0.5781"
     ]
    },
    {
     "name": "stderr",
     "output_type": "stream",
     "text": [
      "2024-04-11 23:23:28.993283: W external/local_tsl/tsl/framework/bfc_allocator.cc:296] Allocator (GPU_0_bfc) ran out of memory trying to allocate 811.97MiB with freed_by_count=0. The caller indicates that this is not a failure, but this may mean that there could be performance gains if more memory were available.\n",
      "2024-04-11 23:23:29.121879: W external/local_tsl/tsl/framework/bfc_allocator.cc:296] Allocator (GPU_0_bfc) ran out of memory trying to allocate 811.97MiB with freed_by_count=0. The caller indicates that this is not a failure, but this may mean that there could be performance gains if more memory were available.\n",
      "2024-04-11 23:23:29.189470: W external/local_tsl/tsl/framework/bfc_allocator.cc:296] Allocator (GPU_0_bfc) ran out of memory trying to allocate 811.97MiB with freed_by_count=0. The caller indicates that this is not a failure, but this may mean that there could be performance gains if more memory were available.\n"
     ]
    },
    {
     "name": "stdout",
     "output_type": "stream",
     "text": [
      "6/8 [=====================>........] - ETA: 0s - loss: 94.7209 - accuracy: 0.5417 "
     ]
    },
    {
     "name": "stderr",
     "output_type": "stream",
     "text": [
      "2024-04-11 23:23:29.258063: W external/local_tsl/tsl/framework/bfc_allocator.cc:296] Allocator (GPU_0_bfc) ran out of memory trying to allocate 811.97MiB with freed_by_count=0. The caller indicates that this is not a failure, but this may mean that there could be performance gains if more memory were available.\n",
      "2024-04-11 23:23:29.324853: W external/local_tsl/tsl/framework/bfc_allocator.cc:296] Allocator (GPU_0_bfc) ran out of memory trying to allocate 811.97MiB with freed_by_count=0. The caller indicates that this is not a failure, but this may mean that there could be performance gains if more memory were available.\n",
      "2024-04-11 23:23:29.390694: W external/local_tsl/tsl/framework/bfc_allocator.cc:296] Allocator (GPU_0_bfc) ran out of memory trying to allocate 811.97MiB with freed_by_count=0. The caller indicates that this is not a failure, but this may mean that there could be performance gains if more memory were available.\n",
      "2024-04-11 23:23:29.456313: W external/local_tsl/tsl/framework/bfc_allocator.cc:296] Allocator (GPU_0_bfc) ran out of memory trying to allocate 811.97MiB with freed_by_count=0. The caller indicates that this is not a failure, but this may mean that there could be performance gains if more memory were available.\n"
     ]
    },
    {
     "name": "stdout",
     "output_type": "stream",
     "text": [
      "8/8 [==============================] - 1s 82ms/step - loss: 72.6856 - accuracy: 0.5378 - val_loss: 4.1063 - val_accuracy: 0.3077\n",
      "Epoch 2/20\n",
      "3/8 [==========>...................] - ETA: 0s - loss: 0.8095 - accuracy: 0.6042"
     ]
    },
    {
     "name": "stderr",
     "output_type": "stream",
     "text": [
      "2024-04-11 23:23:29.702739: W external/local_tsl/tsl/framework/bfc_allocator.cc:296] Allocator (GPU_0_bfc) ran out of memory trying to allocate 811.97MiB with freed_by_count=0. The caller indicates that this is not a failure, but this may mean that there could be performance gains if more memory were available.\n"
     ]
    },
    {
     "name": "stdout",
     "output_type": "stream",
     "text": [
      "8/8 [==============================] - 1s 74ms/step - loss: 0.8024 - accuracy: 0.6135 - val_loss: 2.4071 - val_accuracy: 0.3365\n",
      "Epoch 3/20\n",
      "8/8 [==============================] - 1s 74ms/step - loss: 0.7886 - accuracy: 0.6135 - val_loss: 2.1436 - val_accuracy: 0.3269\n",
      "Epoch 4/20\n",
      "8/8 [==============================] - 1s 73ms/step - loss: 0.8036 - accuracy: 0.6135 - val_loss: 2.4884 - val_accuracy: 0.3365\n",
      "Epoch 5/20\n",
      "8/8 [==============================] - 1s 74ms/step - loss: 0.7763 - accuracy: 0.6135 - val_loss: 2.1141 - val_accuracy: 0.3365\n",
      "Epoch 6/20\n",
      "8/8 [==============================] - 1s 76ms/step - loss: 0.7702 - accuracy: 0.6135 - val_loss: 2.5043 - val_accuracy: 0.3365\n",
      "Epoch 7/20\n",
      "8/8 [==============================] - 1s 74ms/step - loss: 0.7611 - accuracy: 0.6096 - val_loss: 2.8405 - val_accuracy: 0.3462\n",
      "Epoch 8/20\n",
      "8/8 [==============================] - 1s 74ms/step - loss: 0.7656 - accuracy: 0.6096 - val_loss: 2.5603 - val_accuracy: 0.3269\n",
      "Epoch 9/20\n",
      "8/8 [==============================] - 1s 74ms/step - loss: 0.7554 - accuracy: 0.6135 - val_loss: 2.7692 - val_accuracy: 0.3365\n",
      "Epoch 10/20\n",
      "8/8 [==============================] - 1s 74ms/step - loss: 0.7519 - accuracy: 0.6096 - val_loss: 3.1991 - val_accuracy: 0.3365\n",
      "Epoch 11/20\n",
      "8/8 [==============================] - 1s 74ms/step - loss: 0.7497 - accuracy: 0.6096 - val_loss: 2.9556 - val_accuracy: 0.3365\n",
      "Epoch 12/20\n",
      "8/8 [==============================] - 1s 74ms/step - loss: 0.7490 - accuracy: 0.6175 - val_loss: 3.0475 - val_accuracy: 0.3365\n",
      "Epoch 13/20\n",
      "8/8 [==============================] - 1s 74ms/step - loss: 0.7491 - accuracy: 0.6135 - val_loss: 3.5042 - val_accuracy: 0.3462\n",
      "Epoch 14/20\n",
      "8/8 [==============================] - 1s 73ms/step - loss: 0.7444 - accuracy: 0.6175 - val_loss: 3.0656 - val_accuracy: 0.3365\n",
      "Epoch 15/20\n",
      "8/8 [==============================] - 1s 74ms/step - loss: 0.7428 - accuracy: 0.6215 - val_loss: 3.4941 - val_accuracy: 0.3462\n",
      "Epoch 16/20\n",
      "8/8 [==============================] - 1s 74ms/step - loss: 0.7411 - accuracy: 0.6215 - val_loss: 3.6503 - val_accuracy: 0.3462\n",
      "Epoch 17/20\n",
      "8/8 [==============================] - 1s 74ms/step - loss: 0.7430 - accuracy: 0.6175 - val_loss: 3.5336 - val_accuracy: 0.3462\n",
      "Epoch 18/20\n",
      "8/8 [==============================] - 1s 76ms/step - loss: 0.7398 - accuracy: 0.6295 - val_loss: 3.2249 - val_accuracy: 0.3462\n",
      "Epoch 19/20\n",
      "8/8 [==============================] - 1s 73ms/step - loss: 0.7373 - accuracy: 0.6295 - val_loss: 3.7842 - val_accuracy: 0.3462\n",
      "Epoch 20/20\n",
      "8/8 [==============================] - 1s 75ms/step - loss: 0.7357 - accuracy: 0.6215 - val_loss: 3.5951 - val_accuracy: 0.3462\n"
     ]
    }
   ],
   "source": [
    "model.compile(optimizer='adam',\n",
    "              loss=tf.keras.losses.SparseCategoricalCrossentropy(from_logits=True),\n",
    "              metrics=['accuracy'])\n",
    "\n",
    "history = model.fit(train_dataset, epochs=20, validation_data=test_dataset)"
   ]
  },
  {
   "cell_type": "code",
   "execution_count": 14,
   "id": "8d2b032a-8a6e-4554-9cb9-71f6f124e111",
   "metadata": {},
   "outputs": [
    {
     "name": "stdout",
     "output_type": "stream",
     "text": [
      "(255, 255, 3)\n",
      "1/1 [==============================] - 0s 125ms/step\n",
      "[[ 0.08708845  0.14235128  0.05126365 -0.26109913]]\n",
      "{0: 'ashpri1', 1: 'ashdro1', 2: 'asbfly', 3: 'ashwoo2'}\n"
     ]
    }
   ],
   "source": [
    "current_folder = os.getcwd()\n",
    "path = os.path.join(current_folder, \"data/train_data/asbfly/XC134896.png\")\n",
    "img = cv2.imread(path, cv2.IMREAD_COLOR)\n",
    "print(img.shape)\n",
    "\n",
    "prediction = model.predict(numpy.expand_dims(img, axis=0))\n",
    "print(prediction)\n",
    "print(CLASS_MAP)\n"
   ]
  },
  {
   "cell_type": "code",
   "execution_count": null,
   "id": "385c4c31-2fde-4304-b150-2b74d718b45b",
   "metadata": {},
   "outputs": [],
   "source": []
  }
 ],
 "metadata": {
  "kernelspec": {
   "display_name": "Python 3 (ipykernel)",
   "language": "python",
   "name": "python3"
  },
  "language_info": {
   "codemirror_mode": {
    "name": "ipython",
    "version": 3
   },
   "file_extension": ".py",
   "mimetype": "text/x-python",
   "name": "python",
   "nbconvert_exporter": "python",
   "pygments_lexer": "ipython3",
   "version": "3.10.12"
  }
 },
 "nbformat": 4,
 "nbformat_minor": 5
}
